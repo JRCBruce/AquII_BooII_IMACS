{
 "cells": [
  {
   "cell_type": "markdown",
   "metadata": {},
   "source": [
    "## Orbit analysis of Aquarius II and Bootes II using Galpy"
   ]
  },
  {
   "cell_type": "markdown",
   "metadata": {},
   "source": [
    "# Using values from https://ui.adsabs.harvard.edu/abs/2023arXiv230203708B/abstract, this notebook computes the orbit for Aquarius II, the process was repeated for Boo II"
   ]
  },
  {
   "cell_type": "code",
   "execution_count": 11,
   "metadata": {},
   "outputs": [],
   "source": [
    "from galpy.orbit import Orbit\n",
    "from galpy.util import conversion\n",
    "import numpy as np\n",
    "import matplotlib.pyplot as plt\n",
    "from astropy.coordinates import SkyCoord\n",
    "from astropy import units\n",
    "from galpy.util.conversion import get_physical\n",
    "from galpy.potential import MWPotential2014, ChandrasekharDynamicalFrictionForce, HernquistPotential, \\\n",
    "                            MovingObjectPotential, evaluateRforces, evaluatephitorques, evaluatezforces, \\\n",
    "                            NonInertialFrameForce\n",
    "from galpy.potential.mwpotentials import McMillan17"
   ]
  },
  {
   "cell_type": "code",
   "execution_count": 2,
   "metadata": {},
   "outputs": [],
   "source": [
    "# initializing the guassian distributions for the phase space parameters\n",
    "tdisrupt=5 # Using 5 Gyr\n",
    "\n",
    "# Using McMillan17 potential\n",
    "pot = McMillan17\n",
    "\n",
    "ro = conversion.get_physical(pot)['ro']\n",
    "vo = conversion.get_physical(pot)['vo']\n",
    "to = conversion.time_in_Gyr(ro=ro, vo=vo)\n",
    "mo = conversion.mass_in_msol(ro=ro, vo=vo)\n",
    "ts = np.linspace(0, -tdisrupt/to, 1001) # backwards to 5 Gyrs \n",
    "\n",
    "sixD = [338.4813, -9.3274, 107.9, -0.27, -0.44, -65.3] # the 6D parameters from the paper\n",
    "uncer = [0.005, 0.005, 3.3, 0.12, 0.1, 1.8] # the uncertainties in these parameters\n",
    "\n",
    "n_unc = 1000 # number of instances\n",
    "sixD_unc = np.random.normal(loc=sixD, scale=uncer, size = (n_unc,6))"
   ]
  },
  {
   "cell_type": "code",
   "execution_count": 3,
   "metadata": {},
   "outputs": [
    {
     "name": "stderr",
     "output_type": "stream",
     "text": [
      "                                                   \r"
     ]
    }
   ],
   "source": [
    "orbs = Orbit(sixD, radec=True, ro=ro, vo=vo)\n",
    "orbs_unc = Orbit(sixD_unc, radec=True,  ro=ro, vo=vo)\n",
    "orbs.integrate(ts, pot)\n",
    "orbs_unc.integrate(ts, pot)"
   ]
  },
  {
   "cell_type": "code",
   "execution_count": 4,
   "metadata": {},
   "outputs": [
    {
     "name": "stdout",
     "output_type": "stream",
     "text": [
      "Indices where a maximum occurs are at [396]\n",
      "Indices where a minimum occurs are at [ 61 732]\n",
      "First pericentre is at 98.65350566997277 kpc\n",
      "First apocentre is at 154.57747787102295 kpc\n"
     ]
    }
   ],
   "source": [
    "from scipy.signal import argrelextrema\n",
    "\n",
    "# for local maxima\n",
    "apo_indx = argrelextrema(orbs.r(ts), np.greater)[0]\n",
    "print('Indices where a maximum occurs are at', apo_indx)\n",
    "\n",
    "# for local minima\n",
    "peri_indx = argrelextrema(orbs.r(ts), np.less)[0]\n",
    "print('Indices where a minimum occurs are at', peri_indx)\n",
    "\n",
    "#print(test.r(-ts)[peri_indx[0][1]]) #test.r(-ts)[peri_indx[1]], test.r(-ts)[659], test.r(-ts)[917])\n",
    "print('First pericentre is at', orbs.r(ts)[peri_indx[0]], 'kpc')\n",
    "print('First apocentre is at', orbs.r(ts)[apo_indx[0]], 'kpc')"
   ]
  },
  {
   "cell_type": "code",
   "execution_count": 5,
   "metadata": {},
   "outputs": [],
   "source": [
    "from scipy.signal import argrelextrema\n",
    "\n",
    "sat_peri = []\n",
    "for i in range(len(orbs_unc)):\n",
    "    o = orbs_unc.r(ts)[i,:] # Get the radial distance array for orbit i, assign it to 'o'\n",
    "    m_list = o[(argrelextrema(o, np.less)[0])] # Find all local minima\n",
    "    if m_list.tolist() == []: # If there are no local minima\n",
    "        sat_peri.append(0)    # Set the pericentre to 0, you can change this\n",
    "                              #  to min(o) if you want the pericentre\n",
    "                              #  to be the minimum.\n",
    "    else: # If there is a local minimum\n",
    "        sat_peri.append(m_list[0]) # Set orbit i's local minimum to be the nearest one"
   ]
  },
  {
   "cell_type": "code",
   "execution_count": 7,
   "metadata": {},
   "outputs": [],
   "source": [
    "sat_ap = []\n",
    "for i in range(len(orbs_unc)):\n",
    "    o = orbs_unc.r(ts)[i,:]\n",
    "    m_list = o[(argrelextrema(o, np.greater)[0])]\n",
    "    if m_list.tolist() == []:\n",
    "        sat_ap.append(0)    #max(o) if you prefer\n",
    "    else:\n",
    "        sat_ap.append(m_list[0])"
   ]
  },
  {
   "cell_type": "code",
   "execution_count": 8,
   "metadata": {},
   "outputs": [],
   "source": [
    "pap2 = []\n",
    "pperi2 = []\n",
    "eccs2 = []\n",
    "for i in range(len(sat_ap)):\n",
    "    if (not sat_ap[i] == 0) and (not sat_peri[i]==0): # if either the apocenter or pericenter is 0, it is not considered\n",
    "        pap2.append(sat_ap[i])\n",
    "        pperi2.append(sat_peri[i])\n",
    "        eccs2.append(orbs_unc[i].e())"
   ]
  },
  {
   "cell_type": "code",
   "execution_count": 9,
   "metadata": {},
   "outputs": [
    {
     "name": "stdout",
     "output_type": "stream",
     "text": [
      "84%, 50%, 16% of peri: [103.51092137  96.25694574  61.46863152]\n",
      "84%, 50%, 16% of apo: [267.53203869 144.81923295 113.32510967]\n",
      "84%, 50%, 16% of e: [0.49283955 0.29946476 0.18415884]\n"
     ]
    }
   ],
   "source": [
    "print('84%, 50%, 16% of peri:', np.percentile(pperi2, [84,50,16]))\n",
    "print('84%, 50%, 16% of apo:', np.percentile(pap2, [84,50,16]))\n",
    "print('84%, 50%, 16% of e:', np.percentile(eccs2, [84,50,16]))"
   ]
  },
  {
   "cell_type": "markdown",
   "metadata": {},
   "source": [
    "## Now with LMC"
   ]
  },
  {
   "cell_type": "code",
   "execution_count": 66,
   "metadata": {},
   "outputs": [],
   "source": [
    "mass_lmc=1.38e11 #solar masses\n",
    "rscale_lmc=10.2 #kpc\n",
    "\n",
    "pot = McMillan17\n",
    "\n",
    "#Initialize and integrate the orbit of the LMC\n",
    "#Note orbit has to be integrated back 10 Gyr\n",
    "#Note we assume the LMC experienced dynamical friction due to MW\n",
    "o_lmc = Orbit.from_name('LMC', ro=ro, vo=vo, solarmotion=[-11.1, 24.0, 7.25])\n",
    "ts= np.linspace(0.,-tdisrupt/to,1001)\n",
    "cdf= ChandrasekharDynamicalFrictionForce(GMs=mass_lmc/mo, rhm=rscale_lmc/ro, dens=pot[1], ro=ro,vo=vo)\n",
    "o_lmc.integrate(ts,pot+cdf)\n",
    "\n",
    "#Setup a moving Hernquist potential to represent the LMC\n",
    "lmcpot = HernquistPotential(amp=2*10.**11.*units.Msun, a=5.*units.kpc/(1.+np.sqrt(2.))) #rhm = (1+sqrt(2)) a\n",
    "moving_lmcpot = MovingObjectPotential(o_lmc, pot=lmcpot)\n",
    "#Add the moving Hernquest potential to the MW\n",
    "total_pot = [pot]\n",
    "total_pot += [moving_lmcpot]"
   ]
  },
  {
   "cell_type": "code",
   "execution_count": 71,
   "metadata": {},
   "outputs": [],
   "source": [
    "from galpy.potential import (evaluateRforces, evaluatephitorques,\n",
    "                                 evaluatezforces)\n",
    "loc_origin= 1e-4 # Small offset in R to avoid numerical issues\n",
    "ax= lambda t: evaluateRforces(moving_lmcpot,loc_origin,0.,phi=0.,t=t,\n",
    "                                use_physical=False)\n",
    "ay= lambda t: evaluatephitorques(moving_lmcpot,loc_origin,0.,phi=0.,t=t,\n",
    "                                use_physical=False)/loc_origin\n",
    "az= lambda t: evaluatezforces(moving_lmcpot,loc_origin,0.,phi=0.,t=t,\n",
    "                                use_physical=False)\n",
    "\n",
    "t_intunits= o_lmc.time(use_physical=False)[::-1] # need to reverse the order for interp\n",
    "ax4int= np.array([ax(t) for t in t_intunits])\n",
    "ax_int= lambda t: np.interp(t,t_intunits,ax4int)\n",
    "ay4int= np.array([ay(t) for t in t_intunits])\n",
    "ay_int= lambda t: np.interp(t,t_intunits,ay4int)\n",
    "az4int= np.array([az(t) for t in t_intunits])\n",
    "az_int= lambda t: np.interp(t,t_intunits,az4int)"
   ]
  },
  {
   "cell_type": "code",
   "execution_count": 72,
   "metadata": {},
   "outputs": [],
   "source": [
    "nip = NonInertialFrameForce(a0=[ax_int, ay_int, az_int])\n",
    "\n",
    "total_potential = McMillan17 + nip + moving_lmcpot"
   ]
  },
  {
   "cell_type": "code",
   "execution_count": 73,
   "metadata": {},
   "outputs": [
    {
     "name": "stdout",
     "output_type": "stream",
     "text": [
      "galpyWarning: Cannot use symplectic integration because some of the included forces are dissipative (using non-symplectic integrator dopr54_c instead)\n",
      "galpyWarning: Cannot use symplectic integration because some of the included forces are dissipative (using non-symplectic integrator dopr54_c instead)\n"
     ]
    },
    {
     "name": "stderr",
     "output_type": "stream",
     "text": [
      "                                                  \r"
     ]
    }
   ],
   "source": [
    "olmc = Orbit(sixD, radec=True, ro=ro, vo=vo)\n",
    "olmc_unc = Orbit(sixD_unc, radec=True,  ro=ro, vo=vo)\n",
    "\n",
    "# Integrating the orbits\n",
    "olmc.integrate(ts, pot=total_potential)\n",
    "olmc_unc.integrate(ts, pot=total_potential)"
   ]
  },
  {
   "cell_type": "code",
   "execution_count": 74,
   "metadata": {},
   "outputs": [
    {
     "name": "stdout",
     "output_type": "stream",
     "text": [
      "84%, 50%, 16% of peri: [99.47643447 75.12880737 35.28407976]\n",
      "84%, 50%, 16% of apo: [274.1158475  175.88662547 144.73397411]\n",
      "84%, 50%, 16% of e: [0.62397567 0.47600966 0.40738053]\n"
     ]
    }
   ],
   "source": [
    "from scipy.signal import argrelextrema\n",
    "\n",
    "sat_peri2 = []\n",
    "for i in range(len(olmc_unc)):\n",
    "    o = olmc_unc.r(ts)[i,:] # Get the radial distance array for orbit i, assign it to 'o'\n",
    "    m_list = o[(argrelextrema(o, np.less)[0])] # Find all local minima\n",
    "    if m_list.tolist() == []: # If there are no local minima\n",
    "        sat_peri2.append(0)    # Set the pericentre to 0, you can change this\n",
    "                              #  to min(o) if you want the pericentre\n",
    "                              #  to be the minimum.\n",
    "    else: # If there is a local minimum\n",
    "        sat_peri2.append(m_list[0]) # Set orbit i's local minimum to be the nearest one\n",
    "        \n",
    "sat_ap2 = []\n",
    "for i in range(len(olmc_unc)):\n",
    "    o = olmc_unc.r(ts)[i,:]\n",
    "    m_list = o[(argrelextrema(o, np.greater)[0])]\n",
    "    if m_list.tolist() == []:\n",
    "        sat_ap2.append(0)    #max(o))\n",
    "    else:\n",
    "        sat_ap2.append(m_list[0])\n",
    "        \n",
    "pap22 = []\n",
    "pperi22 = []\n",
    "eccs22 = []\n",
    "for i in range(len(sat_ap2)):\n",
    "    if (not sat_ap2[i] == 0) and (not sat_peri2[i]==0): # taking out any unbound instances\n",
    "        pap22.append(sat_ap2[i])\n",
    "        pperi22.append(sat_peri2[i])\n",
    "        eccs22.append(olmc_unc[i].e())\n",
    "        \n",
    "print('84%, 50%, 16% of peri:', np.percentile(pperi22, [84,50,16]))\n",
    "print('84%, 50%, 16% of apo:', np.percentile(pap22, [84,50,16]))\n",
    "print('84%, 50%, 16% of e:', np.percentile(eccs22, [84,50,16]))"
   ]
  },
  {
   "cell_type": "code",
   "execution_count": null,
   "metadata": {},
   "outputs": [],
   "source": []
  }
 ],
 "metadata": {
  "kernelspec": {
   "display_name": "myenv",
   "language": "python",
   "name": "myenv"
  },
  "language_info": {
   "codemirror_mode": {
    "name": "ipython",
    "version": 3
   },
   "file_extension": ".py",
   "mimetype": "text/x-python",
   "name": "python",
   "nbconvert_exporter": "python",
   "pygments_lexer": "ipython3",
   "version": "3.8.13"
  }
 },
 "nbformat": 4,
 "nbformat_minor": 4
}
